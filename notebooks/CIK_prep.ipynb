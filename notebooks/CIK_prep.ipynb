{
 "cells": [
  {
   "cell_type": "code",
   "execution_count": 1,
   "id": "40bd72cf",
   "metadata": {},
   "outputs": [],
   "source": [
    "%load_ext cudf.pandas\n",
    "\n",
    "import pandas as pd\n",
    "import matplotlib.pyplot as plt\n",
    "import os\n",
    "import json\n",
    "\n",
    "pd.set_option('display.max_columns', None)\n",
    "plt.style.use('seaborn-v0_8')"
   ]
  },
  {
   "cell_type": "code",
   "execution_count": 2,
   "id": "cfd8fc5d",
   "metadata": {},
   "outputs": [
    {
     "name": "stderr",
     "output_type": "stream",
     "text": [
      "/mnt/c/JakeDev/Portfolio/project_3_financial4all/.venv/lib/python3.12/site-packages/cudf/io/json.py:247: UserWarning: Using CPU via Pandas to read JSON dataset, this may be GPU accelerated in the future\n",
      "  warnings.warn(\n"
     ]
    }
   ],
   "source": [
    "df = pd.read_json('./data/company_tickers.json')"
   ]
  },
  {
   "cell_type": "code",
   "execution_count": 26,
   "id": "f0ceb07d",
   "metadata": {},
   "outputs": [],
   "source": [
    "# Transpose\n",
    "df = df.T"
   ]
  },
  {
   "cell_type": "code",
   "execution_count": 29,
   "id": "73777831",
   "metadata": {},
   "outputs": [
    {
     "data": {
      "text/html": [
       "<div>\n",
       "<style scoped>\n",
       "    .dataframe tbody tr th:only-of-type {\n",
       "        vertical-align: middle;\n",
       "    }\n",
       "\n",
       "    .dataframe tbody tr th {\n",
       "        vertical-align: top;\n",
       "    }\n",
       "\n",
       "    .dataframe thead th {\n",
       "        text-align: right;\n",
       "    }\n",
       "</style>\n",
       "<table border=\"1\" class=\"dataframe\">\n",
       "  <thead>\n",
       "    <tr style=\"text-align: right;\">\n",
       "      <th></th>\n",
       "      <th>cik_str</th>\n",
       "      <th>ticker</th>\n",
       "      <th>title</th>\n",
       "    </tr>\n",
       "  </thead>\n",
       "  <tbody>\n",
       "    <tr>\n",
       "      <th>0</th>\n",
       "      <td>1045810</td>\n",
       "      <td>NVDA</td>\n",
       "      <td>NVIDIA CORP</td>\n",
       "    </tr>\n",
       "    <tr>\n",
       "      <th>1</th>\n",
       "      <td>789019</td>\n",
       "      <td>MSFT</td>\n",
       "      <td>MICROSOFT CORP</td>\n",
       "    </tr>\n",
       "    <tr>\n",
       "      <th>2</th>\n",
       "      <td>320193</td>\n",
       "      <td>AAPL</td>\n",
       "      <td>Apple Inc.</td>\n",
       "    </tr>\n",
       "    <tr>\n",
       "      <th>3</th>\n",
       "      <td>1018724</td>\n",
       "      <td>AMZN</td>\n",
       "      <td>AMAZON COM INC</td>\n",
       "    </tr>\n",
       "    <tr>\n",
       "      <th>4</th>\n",
       "      <td>1652044</td>\n",
       "      <td>GOOGL</td>\n",
       "      <td>Alphabet Inc.</td>\n",
       "    </tr>\n",
       "    <tr>\n",
       "      <th>...</th>\n",
       "      <td>...</td>\n",
       "      <td>...</td>\n",
       "      <td>...</td>\n",
       "    </tr>\n",
       "    <tr>\n",
       "      <th>10056</th>\n",
       "      <td>2055896</td>\n",
       "      <td>FCHRF</td>\n",
       "      <td>Georg Fischer AG/ADR</td>\n",
       "    </tr>\n",
       "    <tr>\n",
       "      <th>10057</th>\n",
       "      <td>1992829</td>\n",
       "      <td>SDZXF</td>\n",
       "      <td>SANDOZ GROUP AG</td>\n",
       "    </tr>\n",
       "    <tr>\n",
       "      <th>10058</th>\n",
       "      <td>2053411</td>\n",
       "      <td>PCPPF</td>\n",
       "      <td>PC Partner Group Ltd/ADR</td>\n",
       "    </tr>\n",
       "    <tr>\n",
       "      <th>10059</th>\n",
       "      <td>2051587</td>\n",
       "      <td>BSAAU</td>\n",
       "      <td>BEST SPAC I Acquisition Corp.</td>\n",
       "    </tr>\n",
       "    <tr>\n",
       "      <th>10060</th>\n",
       "      <td>1788707</td>\n",
       "      <td>ADYYF</td>\n",
       "      <td>Adyen N.V./ADR</td>\n",
       "    </tr>\n",
       "  </tbody>\n",
       "</table>\n",
       "<p>10061 rows × 3 columns</p>\n",
       "</div>"
      ],
      "text/plain": [
       "       cik_str ticker                          title\n",
       "0      1045810   NVDA                    NVIDIA CORP\n",
       "1       789019   MSFT                 MICROSOFT CORP\n",
       "2       320193   AAPL                     Apple Inc.\n",
       "3      1018724   AMZN                 AMAZON COM INC\n",
       "4      1652044  GOOGL                  Alphabet Inc.\n",
       "...        ...    ...                            ...\n",
       "10056  2055896  FCHRF           Georg Fischer AG/ADR\n",
       "10057  1992829  SDZXF                SANDOZ GROUP AG\n",
       "10058  2053411  PCPPF       PC Partner Group Ltd/ADR\n",
       "10059  2051587  BSAAU  BEST SPAC I Acquisition Corp.\n",
       "10060  1788707  ADYYF                 Adyen N.V./ADR\n",
       "\n",
       "[10061 rows x 3 columns]"
      ]
     },
     "execution_count": 29,
     "metadata": {},
     "output_type": "execute_result"
    }
   ],
   "source": [
    "df"
   ]
  },
  {
   "cell_type": "code",
   "execution_count": 30,
   "id": "c35bd8c4",
   "metadata": {},
   "outputs": [
    {
     "data": {
      "text/plain": [
       "0        1045810\n",
       "1         789019\n",
       "2         320193\n",
       "3        1018724\n",
       "4        1652044\n",
       "          ...   \n",
       "10056    2055896\n",
       "10057    1992829\n",
       "10058    2053411\n",
       "10059    2051587\n",
       "10060    1788707\n",
       "Name: cik_str, Length: 10061, dtype: object"
      ]
     },
     "execution_count": 30,
     "metadata": {},
     "output_type": "execute_result"
    }
   ],
   "source": [
    "df['cik_str']"
   ]
  },
  {
   "cell_type": "code",
   "execution_count": 32,
   "id": "1892a766",
   "metadata": {},
   "outputs": [],
   "source": [
    "df['cik_str'] = df['cik_str'].astype(str).str.zfill(10)"
   ]
  },
  {
   "cell_type": "code",
   "execution_count": 34,
   "id": "87889dd4",
   "metadata": {},
   "outputs": [],
   "source": [
    "df.to_csv('CIK_dict.csv', index=False)"
   ]
  }
 ],
 "metadata": {
  "kernelspec": {
   "display_name": ".venv",
   "language": "python",
   "name": "python3"
  },
  "language_info": {
   "codemirror_mode": {
    "name": "ipython",
    "version": 3
   },
   "file_extension": ".py",
   "mimetype": "text/x-python",
   "name": "python",
   "nbconvert_exporter": "python",
   "pygments_lexer": "ipython3",
   "version": "3.12.3"
  }
 },
 "nbformat": 4,
 "nbformat_minor": 5
}
